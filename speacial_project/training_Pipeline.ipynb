{
 "cells": [
  {
   "cell_type": "code",
   "execution_count": 2,
   "id": "initial_id",
   "metadata": {
    "ExecuteTime": {
     "end_time": "2025-10-02T04:12:02.059540Z",
     "start_time": "2025-10-02T04:12:02.045723Z"
    },
    "collapsed": true
   },
   "outputs": [],
   "source": [
    "import pandas as pd\n",
    "from sklearn.model_selection import train_test_split\n",
    "from sklearn.preprocessing import OneHotEncoder, StandardScaler\n",
    "from sklearn.impute import SimpleImputer\n",
    "from sklearn.ensemble import RandomForestClassifier\n",
    "from sklearn.compose import ColumnTransformer\n",
    "from sklearn.pipeline import make_pipeline, Pipeline\n",
    "from sklearn.metrics import classification_report, accuracy_score\n",
    "import joblib"
   ]
  },
  {
   "cell_type": "code",
   "execution_count": 4,
   "id": "8d87c7e545335462",
   "metadata": {},
   "outputs": [
    {
     "name": "stdout",
     "output_type": "stream",
     "text": [
      "Model trained with accuracy: 1.00\n",
      "\n",
      "Classification Report:\n",
      "               precision    recall  f1-score   support\n",
      "\n",
      "           0       1.00      1.00      1.00         1\n",
      "           1       1.00      1.00      1.00         3\n",
      "\n",
      "    accuracy                           1.00         4\n",
      "   macro avg       1.00      1.00      1.00         4\n",
      "weighted avg       1.00      1.00      1.00         4\n",
      "\n",
      "model Saved Sucessfully\n"
     ]
    }
   ],
   "source": [
    "df =  pd.read_csv(\"dataset.csv\")\n",
    "\n",
    "#Feature and target\n",
    "X= df.drop(\"converted\", axis=1)\n",
    "y=  df[\"converted\"]\n",
    "\n",
    "# Preprocess columns\n",
    "categories =  [\"funding_stage\", \"industry\", \"location\"]\n",
    "numerical  =  [\"employees\"]\n",
    "binary = []\n",
    " \n",
    "# Create a Binary features\n",
    "\n",
    "X['linkedin_present'] = X[\"linkedin_url\"].apply(lambda x: 1 if isinstance(x, str) and x!= \" \" else 0 )\n",
    "X[\"professional_email\"] = X['email'].apply(lambda x: 0 if str(x).endswith((\"gmail.com\", \"yahoo.com\")) else 1)\n",
    "binary  =  [\"linkedin_present\", \"professional_email\"]\n",
    "\n",
    "\n",
    "# Drop Unused column\n",
    "X= X.drop([\"company\", \"email\", \"linkedin_url\"], axis=1)\n",
    "\n",
    "# preprocess pipline\n",
    "preprocess = ColumnTransformer([\n",
    "    (\"cat\", make_pipeline(\n",
    "        SimpleImputer(strategy=\"most_frequent\"),\n",
    "        OneHotEncoder(handle_unknown=\"ignore\")\n",
    "    ), categories),\n",
    "\n",
    "    (\"num\", make_pipeline(\n",
    "        SimpleImputer(strategy=\"median\"),\n",
    "        StandardScaler()\n",
    "    ), numerical),\n",
    "\n",
    "    (\"bin\", \"passthrough\", binary)\n",
    "])\n",
    "model  =  Pipeline(steps=[(\"Preprocessor\", preprocess), (\"Classifier\", RandomForestClassifier(\n",
    "    max_depth=None,\n",
    "    n_estimators=300,\n",
    "    random_state=42,\n",
    "    class_weight = \"balanced\"))\n",
    "    ]\n",
    "                   \n",
    ")\n",
    "\n",
    "# Train /Test split\n",
    "# X_train , X_test, y_train, y_test =  train_test_split(X, y , test_size=0.2, random_state=42)\n",
    "X_train, X_test, y_train, y_test = train_test_split(\n",
    "    X, y, test_size=0.2, random_state=42, stratify=y\n",
    ")\n",
    "\n",
    "# train Model\n",
    "model.fit(X_train,y_train)\n",
    "\n",
    "#evaluate\n",
    "y_pred  = model.predict(X_test)\n",
    "accuracy =  accuracy_score(y_test, y_pred)\n",
    "print(f\"Model trained with accuracy: {accuracy:.2f}\")\n",
    "print(\"\\nClassification Report:\\n\", classification_report(y_test, y_pred))\n",
    "\n",
    "joblib.dump(model, \"model.pkl\")\n",
    "print(\"model Saved Sucessfully\")\n"
   ]
  }
 ],
 "metadata": {
  "kernelspec": {
   "display_name": ".venv",
   "language": "python",
   "name": "python3"
  },
  "language_info": {
   "codemirror_mode": {
    "name": "ipython",
    "version": 3
   },
   "file_extension": ".py",
   "mimetype": "text/x-python",
   "name": "python",
   "nbconvert_exporter": "python",
   "pygments_lexer": "ipython3",
   "version": "3.13.5"
  }
 },
 "nbformat": 4,
 "nbformat_minor": 5
}
